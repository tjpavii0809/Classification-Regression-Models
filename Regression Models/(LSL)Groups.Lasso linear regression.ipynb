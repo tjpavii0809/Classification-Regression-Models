{
 "cells": [
  {
   "cell_type": "markdown",
   "id": "858bfc97-f8b5-4998-9245-4a9136af76e8",
   "metadata": {},
   "source": [
    "# LASSO REGRESSION"
   ]
  },
  {
   "cell_type": "markdown",
   "id": "1d58edab-42f1-4f74-a84c-f1def45ac31e",
   "metadata": {},
   "source": [
    "Importing necessary libraries for data preprocessing"
   ]
  },
  {
   "cell_type": "code",
   "execution_count": null,
   "id": "b1ef5e0b-5078-4af5-ba45-50dfd54718df",
   "metadata": {},
   "outputs": [],
   "source": [
    "import numpy as np\n",
    "import pandas as pd\n",
    "import matplotlib.pyplot as plt\n",
    "import warnings\n",
    "warnings.filterwarnings(\"ignore\")"
   ]
  },
  {
   "cell_type": "markdown",
   "id": "63dc2c97-8e3d-4175-8ad2-2fed6287d555",
   "metadata": {},
   "source": [
    "Importing the dataset"
   ]
  },
  {
   "cell_type": "code",
   "execution_count": null,
   "id": "ed2b495e-7e27-4a78-a20d-c6f8603e8a0b",
   "metadata": {},
   "outputs": [],
   "source": [
    "gps = pd.read_csv(\"C:/Users/ELCOT/Downloads/CSV Dataset/groups.csv\")\n",
    "gps.head()"
   ]
  },
  {
   "cell_type": "markdown",
   "id": "fc2aa182-54b0-4d1a-bdfe-781375c6605d",
   "metadata": {},
   "source": [
    "Analysing and preprocessing the dataset"
   ]
  },
  {
   "cell_type": "code",
   "execution_count": null,
   "id": "edc2246b-b0ac-44f1-944b-668f280baad7",
   "metadata": {},
   "outputs": [],
   "source": [
    "gps.isnull().sum()"
   ]
  },
  {
   "cell_type": "code",
   "execution_count": null,
   "id": "09055771-0fd9-4670-a8d1-af4beaed08fe",
   "metadata": {},
   "outputs": [],
   "source": [
    "gp=gps.drop(['hlpi_name'], axis=1)\n",
    "gp"
   ]
  },
  {
   "cell_type": "code",
   "execution_count": null,
   "id": "e9e46b74-2750-4caa-bf06-4e50299786e7",
   "metadata": {},
   "outputs": [],
   "source": [
    "gp.corr()"
   ]
  },
  {
   "cell_type": "code",
   "execution_count": null,
   "id": "e666a08e-534a-44da-99a7-78b535e4dd5d",
   "metadata": {},
   "outputs": [],
   "source": [
    "x=gp.expenditure.values.reshape(-1,1)\n",
    "y=gp.eqv_exp.values.reshape(-1,1)"
   ]
  },
  {
   "cell_type": "markdown",
   "id": "91a6b4dd-4499-4264-ac46-e2af609d06db",
   "metadata": {},
   "source": [
    "Splitting the dataset into training and test dataset using scikit learn"
   ]
  },
  {
   "cell_type": "code",
   "execution_count": null,
   "id": "01285f6e-f89a-4cb9-9d33-1d7e42df2af4",
   "metadata": {},
   "outputs": [],
   "source": [
    "from sklearn.linear_model import Lasso\n",
    "from sklearn.model_selection import train_test_split, GridSearchCV\n",
    "from sklearn.metrics import r2_score\n",
    "lasso=Lasso()\n",
    "x_train, x_test, y_train, y_test=train_test_split(x,y, test_size=0.2, random_state=42)\n",
    "para={'alpha' : [00.1,0.1,10, 100, 1000, 5000]}\n",
    "lass_reg=GridSearchCV(lasso,para,scoring='neg_mean_squared_error',cv=5)\n",
    "lass_reg.fit(x_train,y_train)"
   ]
  },
  {
   "cell_type": "code",
   "execution_count": null,
   "id": "67e77e4a-ed4a-4814-a4cd-71304e4b0c68",
   "metadata": {},
   "outputs": [],
   "source": [
    "lass_reg.best_params_"
   ]
  },
  {
   "cell_type": "code",
   "execution_count": null,
   "id": "0b00afad-5a8a-47b2-baef-3a50c33fc8fa",
   "metadata": {},
   "outputs": [],
   "source": [
    "y_pred=lass_reg.predict(x_train)\n",
    "y_pred"
   ]
  },
  {
   "cell_type": "markdown",
   "id": "0c70f34a-56cb-4705-b335-c56084f8ba0e",
   "metadata": {},
   "source": [
    "DATA VISUALIZATION"
   ]
  },
  {
   "cell_type": "code",
   "execution_count": null,
   "id": "6baef997-6383-4f7f-b289-1f72011652eb",
   "metadata": {},
   "outputs": [],
   "source": [
    "plt.scatter(x,y,color='g')\n",
    "plt.xlabel('expenditure')\n",
    "plt.ylabel('eqv_expens')\n",
    "plt.title('LASSO REGRESSION')\n",
    "plt.plot(x_train,y_pred,color='purple')\n",
    "plt.show()"
   ]
  },
  {
   "cell_type": "code",
   "execution_count": null,
   "id": "140449e3-25ba-4c6d-b082-f5d1dbe08650",
   "metadata": {},
   "outputs": [],
   "source": [
    "#accuracy of the model\n",
    "r2_score(y_train,y_pred)"
   ]
  },
  {
   "cell_type": "markdown",
   "id": "b60bb955-e1b7-4af0-83cb-65205da1b937",
   "metadata": {},
   "source": [
    "**Using this algorithm we can avoid underfitting of the dataset**"
   ]
  },
  {
   "cell_type": "code",
   "execution_count": null,
   "id": "6810fd06-5245-4e02-9fcf-bb23fb10fdf0",
   "metadata": {},
   "outputs": [],
   "source": []
  }
 ],
 "metadata": {
  "kernelspec": {
   "display_name": "Python 3 (ipykernel)",
   "language": "python",
   "name": "python3"
  },
  "language_info": {
   "codemirror_mode": {
    "name": "ipython",
    "version": 3
   },
   "file_extension": ".py",
   "mimetype": "text/x-python",
   "name": "python",
   "nbconvert_exporter": "python",
   "pygments_lexer": "ipython3",
   "version": "3.12.4"
  }
 },
 "nbformat": 4,
 "nbformat_minor": 5
}
