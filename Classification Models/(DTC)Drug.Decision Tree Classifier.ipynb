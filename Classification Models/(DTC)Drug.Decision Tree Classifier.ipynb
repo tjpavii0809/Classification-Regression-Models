{
 "cells": [
  {
   "cell_type": "markdown",
   "id": "e9abd9bb-ebeb-4d8e-9048-77c24a3d0b7a",
   "metadata": {},
   "source": [
    "### DECISION TREE CLASSIFIER"
   ]
  },
  {
   "cell_type": "markdown",
   "id": "0895cb1c-0663-4218-abed-f5fcd5be09b6",
   "metadata": {},
   "source": [
    "Importing the necessary libraries"
   ]
  },
  {
   "cell_type": "code",
   "execution_count": 12,
   "id": "1ba65bf0-69fe-4dab-8957-45c39d5f036f",
   "metadata": {},
   "outputs": [],
   "source": [
    "#Import necessary libraries\n",
    "import numpy as np\n",
    "import pandas as pd\n",
    "import seaborn as sns\n",
    "import warnings\n",
    "warnings.filterwarnings(\"ignore\")"
   ]
  },
  {
   "cell_type": "code",
   "execution_count": 13,
   "id": "b05fcd23-d236-4146-9879-efb7b016c648",
   "metadata": {},
   "outputs": [
    {
     "data": {
      "text/html": [
       "<div>\n",
       "<style scoped>\n",
       "    .dataframe tbody tr th:only-of-type {\n",
       "        vertical-align: middle;\n",
       "    }\n",
       "\n",
       "    .dataframe tbody tr th {\n",
       "        vertical-align: top;\n",
       "    }\n",
       "\n",
       "    .dataframe thead th {\n",
       "        text-align: right;\n",
       "    }\n",
       "</style>\n",
       "<table border=\"1\" class=\"dataframe\">\n",
       "  <thead>\n",
       "    <tr style=\"text-align: right;\">\n",
       "      <th></th>\n",
       "      <th>Age</th>\n",
       "      <th>Sex</th>\n",
       "      <th>BP</th>\n",
       "      <th>Cholesterol</th>\n",
       "      <th>Na_to_K</th>\n",
       "      <th>Drug</th>\n",
       "    </tr>\n",
       "  </thead>\n",
       "  <tbody>\n",
       "    <tr>\n",
       "      <th>0</th>\n",
       "      <td>23</td>\n",
       "      <td>F</td>\n",
       "      <td>HIGH</td>\n",
       "      <td>HIGH</td>\n",
       "      <td>25.355</td>\n",
       "      <td>drugY</td>\n",
       "    </tr>\n",
       "    <tr>\n",
       "      <th>1</th>\n",
       "      <td>47</td>\n",
       "      <td>M</td>\n",
       "      <td>LOW</td>\n",
       "      <td>HIGH</td>\n",
       "      <td>13.093</td>\n",
       "      <td>drugC</td>\n",
       "    </tr>\n",
       "    <tr>\n",
       "      <th>2</th>\n",
       "      <td>47</td>\n",
       "      <td>M</td>\n",
       "      <td>LOW</td>\n",
       "      <td>HIGH</td>\n",
       "      <td>10.114</td>\n",
       "      <td>drugC</td>\n",
       "    </tr>\n",
       "    <tr>\n",
       "      <th>3</th>\n",
       "      <td>28</td>\n",
       "      <td>F</td>\n",
       "      <td>NORMAL</td>\n",
       "      <td>HIGH</td>\n",
       "      <td>7.798</td>\n",
       "      <td>drugX</td>\n",
       "    </tr>\n",
       "    <tr>\n",
       "      <th>4</th>\n",
       "      <td>61</td>\n",
       "      <td>F</td>\n",
       "      <td>LOW</td>\n",
       "      <td>HIGH</td>\n",
       "      <td>18.043</td>\n",
       "      <td>drugY</td>\n",
       "    </tr>\n",
       "    <tr>\n",
       "      <th>5</th>\n",
       "      <td>22</td>\n",
       "      <td>F</td>\n",
       "      <td>NORMAL</td>\n",
       "      <td>HIGH</td>\n",
       "      <td>8.607</td>\n",
       "      <td>drugX</td>\n",
       "    </tr>\n",
       "    <tr>\n",
       "      <th>6</th>\n",
       "      <td>49</td>\n",
       "      <td>F</td>\n",
       "      <td>NORMAL</td>\n",
       "      <td>HIGH</td>\n",
       "      <td>16.275</td>\n",
       "      <td>drugY</td>\n",
       "    </tr>\n",
       "    <tr>\n",
       "      <th>7</th>\n",
       "      <td>41</td>\n",
       "      <td>M</td>\n",
       "      <td>LOW</td>\n",
       "      <td>HIGH</td>\n",
       "      <td>11.037</td>\n",
       "      <td>drugC</td>\n",
       "    </tr>\n",
       "    <tr>\n",
       "      <th>8</th>\n",
       "      <td>60</td>\n",
       "      <td>M</td>\n",
       "      <td>NORMAL</td>\n",
       "      <td>HIGH</td>\n",
       "      <td>15.171</td>\n",
       "      <td>drugY</td>\n",
       "    </tr>\n",
       "    <tr>\n",
       "      <th>9</th>\n",
       "      <td>43</td>\n",
       "      <td>M</td>\n",
       "      <td>LOW</td>\n",
       "      <td>NORMAL</td>\n",
       "      <td>19.368</td>\n",
       "      <td>drugY</td>\n",
       "    </tr>\n",
       "  </tbody>\n",
       "</table>\n",
       "</div>"
      ],
      "text/plain": [
       "   Age Sex      BP Cholesterol  Na_to_K   Drug\n",
       "0   23   F    HIGH        HIGH   25.355  drugY\n",
       "1   47   M     LOW        HIGH   13.093  drugC\n",
       "2   47   M     LOW        HIGH   10.114  drugC\n",
       "3   28   F  NORMAL        HIGH    7.798  drugX\n",
       "4   61   F     LOW        HIGH   18.043  drugY\n",
       "5   22   F  NORMAL        HIGH    8.607  drugX\n",
       "6   49   F  NORMAL        HIGH   16.275  drugY\n",
       "7   41   M     LOW        HIGH   11.037  drugC\n",
       "8   60   M  NORMAL        HIGH   15.171  drugY\n",
       "9   43   M     LOW      NORMAL   19.368  drugY"
      ]
     },
     "execution_count": 13,
     "metadata": {},
     "output_type": "execute_result"
    }
   ],
   "source": [
    "#import dataset\n",
    "drug_original=pd.read_csv('C:/Users/ELCOT/Downloads/CSV Dataset/drug.csv')\n",
    "drug_original.head(10)"
   ]
  },
  {
   "cell_type": "code",
   "execution_count": null,
   "id": "7e4a9120-5383-473f-8cc1-ee1137c04c5f",
   "metadata": {},
   "outputs": [],
   "source": [
    "## Analysing and preprocessing the dataset"
   ]
  },
  {
   "cell_type": "code",
   "execution_count": null,
   "id": "dff524ca-313e-4e07-a93f-449a2d8fdb49",
   "metadata": {},
   "outputs": [],
   "source": [
    "drug_original.describe()"
   ]
  },
  {
   "cell_type": "code",
   "execution_count": null,
   "id": "011504ec-6069-4853-8e6b-b16b2220ed0a",
   "metadata": {},
   "outputs": [],
   "source": [
    "drug_original.isnull().sum()"
   ]
  },
  {
   "cell_type": "code",
   "execution_count": null,
   "id": "84f02b82-919f-45b2-a8f2-52f67173f3d4",
   "metadata": {},
   "outputs": [],
   "source": [
    "from sklearn.preprocessing import LabelEncoder, OneHotEncoder\n",
    "label= LabelEncoder()\n",
    "drug_original['Sex_encode']=label.fit_transform(drug_original['Sex'])\n",
    "drug_original['BP_encode']=label.fit_transform(drug_original['BP'])\n",
    "drug_original['Chol_encode']=label.fit_transform(drug_original['Cholesterol'])"
   ]
  },
  {
   "cell_type": "code",
   "execution_count": null,
   "id": "237f3462-8568-434c-86e1-d7ab7e75775c",
   "metadata": {},
   "outputs": [],
   "source": [
    "x=drug_original[['Age','Sex_encode','BP_encode','Chol_encode','Na_to_K']]\n",
    "x.head()"
   ]
  },
  {
   "cell_type": "code",
   "execution_count": null,
   "id": "47b253ab-22ae-4040-b149-0f4e81a67f82",
   "metadata": {},
   "outputs": [],
   "source": [
    "y=drug_original.Drug\n",
    "y\n"
   ]
  },
  {
   "cell_type": "markdown",
   "id": "39110904-df0a-4d0e-b6bf-4e132cc318b0",
   "metadata": {},
   "source": [
    "### Splitting the data and training the model"
   ]
  },
  {
   "cell_type": "code",
   "execution_count": null,
   "id": "203e5ef4-5bc5-4dfa-97c1-0cb44d92a8ae",
   "metadata": {},
   "outputs": [],
   "source": [
    "from sklearn.model_selection import train_test_split, GridSearchCV\n",
    "x_train, x_test, y_train, y_test=train_test_split(x,y,test_size=0.2, random_state=42)"
   ]
  },
  {
   "cell_type": "markdown",
   "id": "de31209f-24a9-4d33-9292-9cf3aece3b8f",
   "metadata": {},
   "source": [
    "plotting the decision tree DecisionTreeClassifier"
   ]
  },
  {
   "cell_type": "code",
   "execution_count": null,
   "id": "b5556e55-a3eb-4e5d-a557-625ecfca671d",
   "metadata": {},
   "outputs": [],
   "source": [
    "from sklearn.tree import DecisionTreeClassifier, plot_tree\n",
    "dtc= DecisionTreeClassifier(criterion='gini', max_depth=3, random_state=0)\n",
    "dtc.fit(x_train,y_train)"
   ]
  },
  {
   "cell_type": "code",
   "execution_count": null,
   "id": "5e80fd0a-5ab1-4a43-b02a-12edb25b89ef",
   "metadata": {},
   "outputs": [],
   "source": [
    "dtc_grid.best_params_"
   ]
  },
  {
   "cell_type": "code",
   "execution_count": null,
   "id": "45a13952-4e84-4503-b7e1-3f9d735d355f",
   "metadata": {},
   "outputs": [],
   "source": [
    "y_pred=dtc_grid.predict(x_train)\n",
    "y_pred.flatten()"
   ]
  },
  {
   "cell_type": "markdown",
   "id": "c3f626ca-dbb0-4151-81c4-7400447ba222",
   "metadata": {},
   "source": [
    "### Plotting the tree"
   ]
  },
  {
   "cell_type": "code",
   "execution_count": null,
   "id": "2ddeba5a-b9fb-40df-aa08-37d32eec3c7c",
   "metadata": {},
   "outputs": [],
   "source": [
    "import matplotlib.pyplot as plt\n",
    "plt.figure(figsize=(10,7))\n",
    "plot_tree(dtc, feature_names=['Age','Sex','BP','Cholesterol','Na_to_K'],class_names=['drugX','drugY','drugA', 'drugB','drugC'],filled=True, fontsize=10)\n",
    "plt.show()"
   ]
  },
  {
   "cell_type": "code",
   "execution_count": null,
   "id": "621a6ebf-441d-4dbe-b9c8-08e118f9a9c9",
   "metadata": {},
   "outputs": [],
   "source": [
    "from sklearn.metrics import classification_report,confusion_matrix"
   ]
  },
  {
   "cell_type": "code",
   "execution_count": null,
   "id": "09afa283-cc50-4883-89cf-26ec05314900",
   "metadata": {},
   "outputs": [],
   "source": [
    "print(classification_report(y_train,y_pred))"
   ]
  },
  {
   "cell_type": "code",
   "execution_count": null,
   "id": "caf4c259-0999-4178-8459-fd63d1c3f172",
   "metadata": {},
   "outputs": [],
   "source": [
    "print(confusion_matrix(y_train,y_pred))"
   ]
  },
  {
   "cell_type": "markdown",
   "id": "e1b0b62f-ed88-48ec-b388-c6ce5171293f",
   "metadata": {},
   "source": [
    "Giving the details to the input, the decision tree classifier model classifies the desired drug as output"
   ]
  }
 ],
 "metadata": {
  "kernelspec": {
   "display_name": "Python 3 (ipykernel)",
   "language": "python",
   "name": "python3"
  },
  "language_info": {
   "codemirror_mode": {
    "name": "ipython",
    "version": 3
   },
   "file_extension": ".py",
   "mimetype": "text/x-python",
   "name": "python",
   "nbconvert_exporter": "python",
   "pygments_lexer": "ipython3",
   "version": "3.12.4"
  }
 },
 "nbformat": 4,
 "nbformat_minor": 5
}
